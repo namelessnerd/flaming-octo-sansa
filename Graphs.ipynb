{
 "cells": [
  {
   "cell_type": "code",
   "execution_count": 50,
   "metadata": {},
   "outputs": [],
   "source": [
    "def explore(vertex, adj_list, visited):\n",
    "    print (\"Visiting vertex: %r\" % vertex)\n",
    "    visited.add(vertex)\n",
    "    try:\n",
    "        next_vertices_to_visit = adj_list[vertex]\n",
    "        for next_vertex_to_visit in next_vertices_to_visit:\n",
    "            if next_vertex_to_visit not in visited:\n",
    "                explore(next_vertex_to_visit, adj_list, visited)\n",
    "    except KeyError:\n",
    "        return\n",
    "                "
   ]
  },
  {
   "cell_type": "code",
   "execution_count": 54,
   "metadata": {},
   "outputs": [],
   "source": [
    "def dfs(vertex, adj_list, visited):\n",
    "    \"\"\"\n",
    "    Implements DFS, given an adjacency list\n",
    "    \"\"\"\n",
    "    connected_component = set()\n",
    "    for vertex in adj_list:\n",
    "        if vertex not in visited:\n",
    "            explore(vertex, adj_list, visited)\n",
    "            connected_component = visited - connected_component\n",
    "            print (\"Connected components %r \" % connected_component)\n"
   ]
  },
  {
   "cell_type": "code",
   "execution_count": 55,
   "metadata": {},
   "outputs": [
    {
     "name": "stdout",
     "output_type": "stream",
     "text": [
      "Visiting vertex: 1\n",
      "Visiting vertex: 2\n",
      "Visiting vertex: 3\n",
      "Visiting vertex: 4\n",
      "Visiting vertex: 5\n",
      "Connected components {1, 2, 3, 4, 5} \n",
      "Visiting vertex: 7\n",
      "Visiting vertex: 8\n",
      "Connected components {8, 7} \n"
     ]
    }
   ],
   "source": [
    "adjlist = {1: [2,3], 2:[3,4,5],5:[1], 7:[8,]}\n",
    "visited = set()\n",
    "dfs(None, adjlist, visited)"
   ]
  },
  {
   "cell_type": "code",
   "execution_count": null,
   "metadata": {},
   "outputs": [],
   "source": [
    "\"\""
   ]
  }
 ],
 "metadata": {
  "kernelspec": {
   "display_name": "Python 3",
   "language": "python",
   "name": "python3"
  },
  "language_info": {
   "codemirror_mode": {
    "name": "ipython",
    "version": 3
   },
   "file_extension": ".py",
   "mimetype": "text/x-python",
   "name": "python",
   "nbconvert_exporter": "python",
   "pygments_lexer": "ipython3",
   "version": "3.6.0"
  }
 },
 "nbformat": 4,
 "nbformat_minor": 2
}
