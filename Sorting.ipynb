{
 "cells": [
  {
   "cell_type": "code",
   "execution_count": null,
   "metadata": {},
   "outputs": [],
   "source": []
  },
  {
   "cell_type": "code",
   "execution_count": 24,
   "metadata": {
    "scrolled": true
   },
   "outputs": [
    {
     "data": {
      "text/plain": [
       "[1, 1, 2, 3, 4, 5, 6]"
      ]
     },
     "execution_count": 24,
     "metadata": {},
     "output_type": "execute_result"
    }
   ],
   "source": [
    "\"\"\"\n",
    "Implements insertion sort. \n",
    "\"\"\"\n",
    "\n",
    "def insertion_sort(input_list):\n",
    "    if input_list is not None:\n",
    "        input_length = len(input_list)\n",
    "        if input_length:\n",
    "            for left_idx in range(input_length):\n",
    "                for right_idx in range(left_idx + 1, input_length):\n",
    "                    if input_list[right_idx] < input_list[left_idx]:\n",
    "                        temp = input_list[right_idx]\n",
    "                        input_list[right_idx] = input_list[left_idx]\n",
    "                        input_list[left_idx] = temp\n",
    "#             for left_idx in range(input_length - 1):\n",
    "#                 for right_idx in range(left_idx + 1, 0, -1):\n",
    "#                     if input_list[right_idx] < input_list[right_idx -1]:\n",
    "#                         temp = input_list[right_idx]\n",
    "#                         input_list[right_idx] = input_list[right_idx - 1]\n",
    "#                         input_list[right_idx - 1] = temp\n",
    "        return input_list\n",
    "insertion_sort([1,6,5,4,3,2,1])"
   ]
  },
  {
   "cell_type": "code",
   "execution_count": 50,
   "metadata": {},
   "outputs": [
    {
     "name": "stdout",
     "output_type": "stream",
     "text": [
      "[10, 9, 8, 7, 6, 5, 4, 3, 2, 1]\n"
     ]
    },
    {
     "data": {
      "text/plain": [
       "[1, 2, 3, 4, 5, 6, 7, 8, 9, 10]"
      ]
     },
     "execution_count": 50,
     "metadata": {},
     "output_type": "execute_result"
    }
   ],
   "source": [
    "\"\"\"\n",
    "Implements merge sort. Merge sort is a divide and conquer sorting technique.\n",
    "The input list is split into left and right lists in the manner as binary search.\n",
    "We call merge sort on the left list and merge sort on the right list. \n",
    "Recursively, the left list is divided into two and merge sort is called on each of \n",
    "the two parts.\n",
    "The result of merge sort from the two parts is merged and returned. \n",
    "The merge step takes as input two sorted lists. This is because, the left and right lists\n",
    "are sorted by calling merge sort. \n",
    "In the merge step, we start comparing the first element of both lists (they will be in sorted\n",
    "order meaning the smallest will be the first for ascending and largest for descending)\n",
    "if the element on the left is smaller than the right, we add the element on the left to the \n",
    "result array and increment left position by 1. This is because we have already compared this \n",
    "element and found its sorted position in the merged array. Otherwise, we add the right element \n",
    "and increment right by 1. We do this until either the left or the right array has been completely \n",
    "added into the merged list. We add the remaining elements of the array that has not been completely \n",
    "traversed and return the merged list. \n",
    "\"\"\"\n",
    "\n",
    "def merge(left_array, right_array):\n",
    "    # create the merged array\n",
    "    merged = []\n",
    "    # initialize the left and right pointers to navigate\n",
    "    left, right = 0, 0\n",
    "    # get the length of both arrays\n",
    "    left_length, right_length = len(left_array), len(right_array)\n",
    "    if left_length == 0:\n",
    "        return right_array\n",
    "    if right_length == 0:\n",
    "        return left_array\n",
    "    # iterate through both arrays, comparing the elements. \n",
    "    # the first element is in sorted order\n",
    "    while left < left_length and right < right_length:\n",
    "        if left_array[left] <= right_array[right]:\n",
    "            # the element on the left array is less than the element on the right array\n",
    "            # add this to the merged list and increment left by 1\n",
    "            merged.append(left_array[left])\n",
    "            left += 1\n",
    "        else:\n",
    "            merged.append(right_array[right])\n",
    "            right += 1\n",
    "    # add all the remaining elements from the array that has not been completely traversed\n",
    "    if left < left_length:\n",
    "        merged = merged + left_array[left:]\n",
    "    else:\n",
    "        merged = merged + right_array[right:]\n",
    "    return merged\n",
    "\n",
    "def merge_sort(input_array, left, right):\n",
    "    if left >= right:\n",
    "        return [input_array[left]]\n",
    "    mid = (left + right) //2\n",
    "    left_sorted = merge_sort(input_array, left, mid)\n",
    "    right_sorted = merge_sort(input_array, mid + 1, right)\n",
    "    merged = merge(left_sorted, right_sorted)\n",
    "    return merged\n",
    "\n",
    "def merge_sort_helper(input_array):\n",
    "    if input_array is not None:\n",
    "        if input_array:\n",
    "            return merge_sort(input_array, 0, len(input_array) - 1)\n",
    "        else:\n",
    "            return []\n",
    "\n",
    "input_list = [i for i in range(10, 0, -1)]\n",
    "print (input_list)\n",
    "merge_sort_helper(input_list)"
   ]
  }
 ],
 "metadata": {
  "kernelspec": {
   "display_name": "Python 3",
   "language": "python",
   "name": "python3"
  },
  "language_info": {
   "codemirror_mode": {
    "name": "ipython",
    "version": 3
   },
   "file_extension": ".py",
   "mimetype": "text/x-python",
   "name": "python",
   "nbconvert_exporter": "python",
   "pygments_lexer": "ipython3",
   "version": "3.6.0"
  }
 },
 "nbformat": 4,
 "nbformat_minor": 2
}
