{
 "cells": [
  {
   "cell_type": "code",
   "execution_count": 51,
   "metadata": {},
   "outputs": [],
   "source": [
    "\"\"\"\n",
    "Implements a linked list\n",
    "\"\"\"\n",
    "\n",
    "\"\"\"\n",
    "Implements a node\n",
    "\"\"\"\n",
    "\n",
    "class Node(object):\n",
    "    def __init__(self, key, value):\n",
    "        \n",
    "        self.key = key\n",
    "        self.value = value\n",
    "        self.next = None\n",
    "        self.previous = None\n",
    "    \n",
    "    def add_next(self, next_node):\n",
    "        self.next = next_node\n",
    "    \n",
    "    def add_previous(self, prev_node):\n",
    "        self.previous = prev_node\n",
    "    \n",
    "    def __repr__(self):\n",
    "        return \"Key: %r; Value: %r; Next: %r\" % (self.key, self.value, self.next)"
   ]
  },
  {
   "cell_type": "code",
   "execution_count": 50,
   "metadata": {},
   "outputs": [],
   "source": [
    "class LinkedList(object):\n",
    "    \n",
    "    def __init__(self):\n",
    "        self.length = 0\n",
    "        self.last_node = None\n",
    "        self.head_node = None\n",
    "    \n",
    "    def add_node(self, node):\n",
    "#         print (\"Adding node %r\" %(node.next))\n",
    "        if self.last_node:\n",
    "            self.last_node.add_next(node)\n",
    "            self.last_node = node\n",
    "            print (node.next)\n",
    "        else:\n",
    "            self.head_node = node\n",
    "            self.last_node = node\n",
    "        self.length += 1\n",
    "#         return node\n",
    "    \n",
    "    def remove_node(self, key):\n",
    "        current = self.head_node   \n",
    "        previous = None\n",
    "        while current is not None:\n",
    "            if current.key == key:\n",
    "                if previous is not None:\n",
    "                    previous.next = current.next\n",
    "                else:\n",
    "                    self.head_node = current.next\n",
    "                self.length -= 1\n",
    "                return (key, current.value)\n",
    "            previous = current\n",
    "            current = current.next            \n",
    "\n",
    "\n",
    "    def traverse(self):\n",
    "        current = self.head_node\n",
    "        count = 0\n",
    "        while current is not None:\n",
    "            print (current)\n",
    "            current = current.next\n",
    "            count += 1\n",
    "        \n",
    "            \n",
    "            \n",
    "            \n",
    "        "
   ]
  },
  {
   "cell_type": "code",
   "execution_count": 53,
   "metadata": {},
   "outputs": [
    {
     "name": "stdout",
     "output_type": "stream",
     "text": [
      "Key: 5; Value: 4; Next: None\n",
      "None\n",
      "Key: 5; Value: 4; Next: None\n",
      "None\n",
      "Key: 5; Value: 4; Next: None\n",
      "None\n",
      "Key: 5; Value: 4; Next: Key: 5; Value: 4; Next: Key: 5; Value: 4; Next: Key: 6; Value: 4; Next: None\n",
      "Key: 5; Value: 4; Next: Key: 5; Value: 4; Next: Key: 6; Value: 4; Next: None\n",
      "Key: 5; Value: 4; Next: Key: 6; Value: 4; Next: None\n",
      "Key: 6; Value: 4; Next: None\n"
     ]
    }
   ],
   "source": [
    "\n"
   ]
  }
 ],
 "metadata": {
  "kernelspec": {
   "display_name": "Python 3",
   "language": "python",
   "name": "python3"
  },
  "language_info": {
   "codemirror_mode": {
    "name": "ipython",
    "version": 3
   },
   "file_extension": ".py",
   "mimetype": "text/x-python",
   "name": "python",
   "nbconvert_exporter": "python",
   "pygments_lexer": "ipython3",
   "version": "3.6.0"
  }
 },
 "nbformat": 4,
 "nbformat_minor": 2
}
