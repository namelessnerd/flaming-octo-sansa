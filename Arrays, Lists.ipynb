{
 "cells": [
  {
   "cell_type": "code",
   "execution_count": 157,
   "metadata": {},
   "outputs": [
    {
     "name": "stdout",
     "output_type": "stream",
     "text": [
      "Left: 0; Right: 4; mid: 2\n",
      "Left: 3; Right: 4; mid: 3\n",
      "3\n"
     ]
    }
   ],
   "source": [
    "\"\"\"\n",
    "Find how many times a given sorted array has been rotated\n",
    "\"\"\"\n",
    "def find_pivot_helper(input_list, left, right):\n",
    "    \"\"\"\n",
    "    The idea here that in a list sorted ascending, the element that is LESS GREATER the element to its right is the \n",
    "    pivot element. If the immediate element is not greater, check to see if the last element to the right is greater. \n",
    "    If so, it means there is one element that belongs to the RIGHT of the current element that is GREATER \n",
    "    than the element to its right. If not, check if the middle element is less than the first element. If it is, \n",
    "    then there is one element to the left of middle, that is greater than the element to its right. \n",
    "    \"\"\"\n",
    "    if left > right:\n",
    "        return -1\n",
    "    mid = (left + right) // 2\n",
    "    print (\"Left: %d; Right: %d; mid: %d\"%(left, right, mid))\n",
    "    if input_list[mid] > input_list[mid + 1]:\n",
    "        return mid\n",
    "    else:\n",
    "        if input_list[mid] >= input_list[right]:\n",
    "            return find_pivot(input_list, mid + 1, right)\n",
    "        else:\n",
    "            return find_pivot(input_list, left, mid)\n",
    "\n",
    "def find_pivot(input_list, left, right):\n",
    "    if input_list is not None and input_list:\n",
    "        return find_pivot_helper(input_list, left, right)\n",
    "    else:\n",
    "        print (\"How can you make a mistake on this?\")\n",
    "    \n",
    "input_list = [2,3,8,9,1,]\n",
    "\n",
    "l = len(input_list)\n",
    "\n",
    "\n",
    "print(find_pivot(input_list, 0, l - 1))"
   ]
  },
  {
   "cell_type": "code",
   "execution_count": 138,
   "metadata": {},
   "outputs": [
    {
     "name": "stdout",
     "output_type": "stream",
     "text": [
      "left : 0 ; right: 8; mid: 4\n",
      "left : 5 ; right: 8; mid: 6\n",
      "left : 7 ; right: 8; mid: 7\n",
      "left : 8 ; right: 8; mid: 8\n",
      "[0, 0, 0, 0, 0, 0, 0, 0, 0, 1]\n",
      "left : 0 ; right: 9; mid: 4\n",
      "left : 5 ; right: 9; mid: 7\n",
      "left : 8 ; right: 9; mid: 8\n",
      "left : 9 ; right: 9; mid: 9\n",
      "Element found  after second iteration at 9 \n"
     ]
    }
   ],
   "source": [
    "\"\"\"\n",
    "Binary search in a rotated list\n",
    "\"\"\"\n",
    "\n",
    "def binary_search(input_list, left, right, key):\n",
    "\n",
    "    if left > right:\n",
    "        return False\n",
    "    mid = (left + right) // 2\n",
    "    print (\"left : %d ; right: %d; mid: %d\" %(left, right, mid))\n",
    "    if key == input_list[mid]:\n",
    "        return mid\n",
    "    if key < input_list[mid]:\n",
    "        return binary_search(input_list, left, mid - 1, key)\n",
    "    else:\n",
    "        return binary_search(input_list, mid + 1, right, key)\n",
    "\n",
    "input_list =  [0 for i in range(0,9)] + [1] + [0 for i in range(0,9)]\n",
    "key = 1\n",
    "\n",
    "\n",
    "pivot = find_pivot(input_list, 0, len(input_list) -1)\n",
    "\n",
    "el =  binary_search(input_list[pivot + 1:], 0, (len(input_list) - 1)  - (pivot + 1), key)\n",
    "# print (input_list, key)\n",
    "# el = binary_search(input_list, 0, (len(input_list) -1) , key)\n",
    "if str(el) == \"0\" or  el:\n",
    "    print (el)\n",
    "    print (\"Element found  at %d \" % (el))\n",
    "else:\n",
    "    if pivot == -1:\n",
    "        print (\"Not found\")\n",
    "    else:\n",
    "        print (input_list[:pivot + 1])\n",
    "        el =  binary_search(input_list[:pivot + 1], 0, pivot, key) \n",
    "        print (\"Element found  after second iteration at %d \" % (el))\n",
    "\n",
    "    "
   ]
  }
 ],
 "metadata": {
  "kernelspec": {
   "display_name": "Python 3",
   "language": "python",
   "name": "python3"
  },
  "language_info": {
   "codemirror_mode": {
    "name": "ipython",
    "version": 3
   },
   "file_extension": ".py",
   "mimetype": "text/x-python",
   "name": "python",
   "nbconvert_exporter": "python",
   "pygments_lexer": "ipython3",
   "version": "3.6.0"
  }
 },
 "nbformat": 4,
 "nbformat_minor": 2
}
