{
 "cells": [
  {
   "cell_type": "code",
   "execution_count": 604,
   "metadata": {},
   "outputs": [],
   "source": [
    "def collatz(n, count):\n",
    "    \"\"\"\n",
    "    Collatz conjecture recursive implementation\n",
    "    \"\"\"\n",
    "    if n==1:\n",
    "        return count\n",
    "    elif n%2:\n",
    "        return collatz(3*n+1, count+1)\n",
    "    else:\n",
    "        return collatz(n//2, count+1)\n",
    "def collatz_helper(n, count):\n",
    "    if n is not None and type(n) is int and n > 0:\n",
    "        return collatz(n, count)\n",
    "    else:\n",
    "        return \"Collatz can be computed only for positive numbers\"\n",
    "assert collatz_helper(1,0) == 0\n",
    "assert collatz_helper(2,0) == 1\n",
    "assert collatz_helper(6,0) == 8\n",
    "assert collatz_helper(11,0) == 14"
   ]
  },
  {
   "cell_type": "code",
   "execution_count": 601,
   "metadata": {},
   "outputs": [],
   "source": [
    "\"\"\"\n",
    "Palindrome ignoring special characters - for example a;!@# a is a \n",
    "\"\"\"\n",
    "def is_palindrome(input_string, left, right, input_length):\n",
    "    \"\"\"\n",
    "    Checks if a given string is a palindrome, ignoring special characters\n",
    "    \"\"\"\n",
    "    if left > right:\n",
    "        return True\n",
    "    else:\n",
    "        while not input_string[left].isalnum() and left < input_length:\n",
    "            left += 1\n",
    "        while not input_string[right].isalnum() and left < right:\n",
    "            right -= 1\n",
    "        if input_string[left] == input_string[right]:\n",
    "            return is_palindrome(input_string, left + 1, right -1, input_length - 2) \n",
    "        else:\n",
    "            if left > right:\n",
    "                return True\n",
    "            return False\n",
    "unit_test_cases = {None: False, \"\": True, \"Foo\": False, \"a\": True,\n",
    "                      \"a a\": True, \"madam\": True,\n",
    "                      \"   ma!@#!da;;   m \": True,\"abb1221bba\": True,}\n",
    "\n",
    "for unit_test_case in unit_test_cases:\n",
    "    input_length = len(unit_test_case) if unit_test_case is not None else 0\n",
    "    if unit_test_case is not None:\n",
    "        if len(unit_test_case) == 0:\n",
    "            print (True)\n",
    "        else:\n",
    "            assert(is_palindrome(unit_test_case, 0, input_length -1, input_length))\\\n",
    "                ==unit_test_cases[unit_test_case]"
   ]
  },
  {
   "cell_type": "code",
   "execution_count": 600,
   "metadata": {},
   "outputs": [
    {
     "name": "stdout",
     "output_type": "stream",
     "text": [
      "Found\n",
      "45\n"
     ]
    }
   ],
   "source": [
    "\"\"\"\n",
    "Binary search with an utility function to check for sorted\n",
    "\"\"\"\n",
    "\n",
    "def check_sorted(input_list, sort_order = \"asc\"):\n",
    "    # check if an input_list is sorted. An element with 1 element is considered sorted\n",
    "    if input_list:\n",
    "        for el in range(len(input_list) -1):\n",
    "            if sort_order == \"asc\":\n",
    "                if input_list[el] > input_list[el + 1]:\n",
    "                    return False\n",
    "                else:\n",
    "                    pass\n",
    "            elif input_list[el] < input_list[el + 1]:\n",
    "                return False\n",
    "        return True\n",
    "    elif input_list == []:\n",
    "        return True\n",
    "    return False\n",
    "\n",
    "def binary_search(input_list, start, stop, key):\n",
    "    \"\"\"\n",
    "    Searches through a given sorted list for key\n",
    "    \"\"\"\n",
    "    if start > stop:\n",
    "        return -1\n",
    "    else:\n",
    "        mid = (start + stop)//2\n",
    "        if key == input_list[mid]:\n",
    "            print (\"Found\")\n",
    "            return mid\n",
    "        elif key < input_list[mid]:\n",
    "            return binary_search(input_list, start, mid -1, key)\n",
    "        else:\n",
    "            return binary_search(input_list, mid + 1, stop, key)\n",
    "input_list = [3+i for i in range(100)]\n",
    "if check_sorted(input_list, \"asc\"):\n",
    "    inp_len = len(input_list)\n",
    "    print( binary_search(input_list, 0, inp_len - 1, 48))"
   ]
  },
  {
   "cell_type": "code",
   "execution_count": 222,
   "metadata": {},
   "outputs": [],
   "source": [
    "def choose(n, k):\n",
    "    \"\"\"\n",
    "    Computes the choose operation - choose k bats from n bats\n",
    "    For each bat, we can either choose that bat or not. \n",
    "    If we choose a bat, then we have to choose k-1 bats from n-1 bats\n",
    "    If we do not choose a bat, then we have to choose k bats from n-1 bats\n",
    "    When n ==k, we have only one way to choose\n",
    "    when k == 0, we have only one way to choose\n",
    "    n,k should be numbers greater than 0\n",
    "    \"\"\"\n",
    "    if n == k or k == 0:\n",
    "        return 1\n",
    "    else:\n",
    "        return choose(n-1, k) + choose(n-1, k-1)\n",
    "choose(10,5)"
   ]
  },
  {
   "cell_type": "code",
   "execution_count": 599,
   "metadata": {},
   "outputs": [
    {
     "name": "stdout",
     "output_type": "stream",
     "text": [
      "Moved disk 1 from source to buffer\n",
      "Moved disk 2 from source to target\n",
      "Moved disk 1 from buffer to target\n",
      "Moved disk 3 from source to buffer\n",
      "Moved disk 1 from target to source\n",
      "Moved disk 2 from target to buffer\n",
      "Moved disk 1 from source to buffer\n",
      "Moved disk 4 from source to target\n",
      "Moved disk 1 from buffer to target\n",
      "Moved disk 2 from buffer to source\n",
      "Moved disk 1 from target to source\n",
      "Moved disk 3 from buffer to target\n",
      "Moved disk 1 from source to buffer\n",
      "Moved disk 2 from source to target\n",
      "Moved disk 1 from buffer to target\n"
     ]
    }
   ],
   "source": [
    "def towers(n,source, target, buffer):\n",
    "    \"\"\"\n",
    "    Implement towers of hanoi for n disks\n",
    "    \"\"\"\n",
    "    if n:\n",
    "        towers(n-1, source, buffer, target)\n",
    "        print (\"Moved disk %d from %s to %s\"%(n, source, target))\n",
    "        towers(n-1, buffer, target, source)\n",
    "towers(4, \"source\", \"target\", \"buffer\")"
   ]
  },
  {
   "cell_type": "code",
   "execution_count": 249,
   "metadata": {},
   "outputs": [],
   "source": [
    "def permute_string (input_string, current_permutation, permutations):\n",
    "    input_length = len(input_string)\n",
    "    if input_length == 0:\n",
    "        permutations.append(current_permutation)\n",
    "    else:\n",
    "        for i in range(input_length):\n",
    "            next_permutation = current_permutation + input_string[i]\n",
    "            next_input_string = input_string[:i] + input_string[i+1:]\n",
    "            permute_string(next_input_string, next_permutation, permutations)\n",
    "        return permutations"
   ]
  },
  {
   "cell_type": "code",
   "execution_count": 598,
   "metadata": {},
   "outputs": [
    {
     "name": "stdout",
     "output_type": "stream",
     "text": [
      "Already explored aa.\n",
      "Already explored apa.\n",
      "Already explored a.\n",
      "Already explored a.\n",
      "Already explored paa.\n",
      "Already explored pa.\n",
      "Already explored pa.\n",
      "4\n"
     ]
    }
   ],
   "source": [
    "\"\"\"\n",
    "Permutation with repetition\n",
    "\"\"\"\n",
    "def permute_with_repeat(input_string, current_permutation, permutations, chars_permuted):\n",
    "    \"\"\"\n",
    "    The key to solving this is to keep the state of all characters explored at every level of recursion.\n",
    "    This is done using a set, chars_permuted (set because O(1) look up)\n",
    "    Each time the recursion comes back to the root, meaning we are exploring a new character in the string\n",
    "    the state is reset. This would allow for same characters to be explored at the same recursion level, as long \n",
    "    as the starting character is different.\n",
    "    Maintaining the state means we do not explore the same tree twice. For example, if input string is aaap, \n",
    "    we permute the first a but do not premute the rest of the a's at the first level.\n",
    "    Similarly, we permute the second a, but do not permute the rest of the a's.\n",
    "    \"\"\"\n",
    "    \n",
    "\n",
    "    input_length = len(input_string)\n",
    "    if input_length == 0:\n",
    "        # we are using a set here. if there is a duplicate it wont be added to the set\n",
    "        permutations.append(current_permutation)\n",
    "    for char in range(input_length):\n",
    "        next_permutation = current_permutation + input_string[char]\n",
    "        if next_permutation not in chars_permuted:\n",
    "            chars_permuted.add(next_permutation)\n",
    "            remaining_characters_to_permute = input_string[:char] + input_string[char + 1:]\n",
    "            permute_with_repeat(remaining_characters_to_permute, next_permutation, permutations, chars_permuted)\n",
    "        else:\n",
    "            print (\"Already explored %s.\"%(next_permutation))\n",
    "    return permutations\n",
    "input_string = \"aaap\"\n",
    "# input_string = \"\".join(set(input_string))\n",
    "# print (input_string)\n",
    "permuted = permute_with_repeat(input_string,\"\",[], set())\n",
    "print (len(permuted))"
   ]
  },
  {
   "cell_type": "code",
   "execution_count": 594,
   "metadata": {},
   "outputs": [
    {
     "name": "stdout",
     "output_type": "stream",
     "text": [
      "['a|b|l|e| |e|l|b|a', 'able elba', 'a|ble elb|a', 'a|b|le el|b|a', 'a|b|l|e e|l|b|a']\n"
     ]
    }
   ],
   "source": [
    "\"\"\"\n",
    "Palindromic decomposition - Given a string, print all palindromic substrings\n",
    "\"\"\"\n",
    "def is_palindrome(input_string, left, right, input_length):\n",
    "    if left > right:\n",
    "        return True\n",
    "    else:\n",
    "        while not input_string[left].isalnum() and left < input_length:\n",
    "            left += 1\n",
    "        while not input_string[right].isalnum() and left <= right:\n",
    "            right = right - 1\n",
    "        if input_string[left] == input_string[right]:\n",
    "            return is_palindrome(input_string, left + 1, right -1, input_length)\n",
    "        else:\n",
    "            if left > right:\n",
    "                return True\n",
    "        return False\n",
    "\n",
    "def return_dict(s):\n",
    "    \"\"\"\n",
    "    Returns a dictionary that has the frequency of each of the characters in the string\n",
    "    \"\"\"\n",
    "    count_dict = {}\n",
    "    for idx, char in enumerate(s):\n",
    "        try:\n",
    "            count_dict[char].append(idx)\n",
    "        except KeyError:\n",
    "            count_dict[char] = [idx]\n",
    "    return count_dict\n",
    "\n",
    "def return_piped(s):\n",
    "    \"\"\"\n",
    "    Returns a string with pipe between characters and a pair of pipes surrounding the string \n",
    "    \"\"\"\n",
    "    return \"|\" + \"|\".join([ch for ch in s]) + \"|\"\n",
    "\n",
    "def palindrome_pair(s):\n",
    "    count_dict = return_dict(s)\n",
    "    output_array = {}\n",
    "    res = []\n",
    "    for char in count_dict:\n",
    "        occurences = count_dict[char]\n",
    "        if len(occurences) > 1:\n",
    "            total_occurences = len(occurences)\n",
    "            for idx in range(total_occurences):\n",
    "                for j in range( idx + 1, total_occurences):\n",
    "                    starting_index = occurences[idx]\n",
    "                    ending_index = occurences[j]\n",
    "                    if is_palindrome(s[starting_index: ending_index + 1], 0, ending_index - starting_index, ending_index + 1 - starting_index):\n",
    "                        output_array[occurences[idx]]= (s[starting_index: ending_index + 1])\n",
    "    res.append(return_piped(s)[1:-1])\n",
    "    for pal_pos in output_array:\n",
    "        pal_string = output_array[pal_pos]\n",
    "        string_upto_palindrome = return_piped(s[:pal_pos])\n",
    "        string_upto_palindrome = \"\" if len(string_upto_palindrome) <= 2 else string_upto_palindrome[1:]\n",
    "        string_beyond_palindrome = return_piped(s[pal_pos + len(pal_string): ])\n",
    "        string_beyond_palindrome = \"\" if len(string_beyond_palindrome) <=2 else string_beyond_palindrome[:-1]\n",
    "        res.append ((string_upto_palindrome +  pal_string +  string_beyond_palindrome))\n",
    "    return res\n",
    "print(palindrome_pair(\"able elba\"))"
   ]
  },
  {
   "cell_type": "code",
   "execution_count": 336,
   "metadata": {},
   "outputs": [
    {
     "data": {
      "text/plain": [
       "9"
      ]
     },
     "execution_count": 336,
     "metadata": {},
     "output_type": "execute_result"
    }
   ],
   "source": [
    "def longestsubstr(s, sub, ll, fr, right):\n",
    "    \"\"\"\n",
    "    Print the length of the longest string that has the given substring at both edges\n",
    "    \"\"\"\n",
    "    sublen = len(sub)\n",
    "    if right < sublen -1:\n",
    "        return (fr - ll)\n",
    "    else:\n",
    "        if s[right + 1 - sublen : right + 1] == sub:\n",
    "            if fr == 0:\n",
    "                fr = right + 1\n",
    "            ll = right + 1 - sublen\n",
    "            return longestsubstr(s, sub, ll, fr, right - sublen)\n",
    "        else:\n",
    "            return longestsubstr(s, sub, ll, fr, right -1)\n",
    "\n",
    "s = \"cowcatcow\"\n",
    "longestsubstr(s, \"cow\", 0,0, len(s) -1)"
   ]
  },
  {
   "cell_type": "code",
   "execution_count": 477,
   "metadata": {},
   "outputs": [],
   "source": [
    "\"\"\"\n",
    "Function to calculate all the subsets of a given set\n",
    "\"\"\"\n",
    "def subsets(current_subset, remaining_elements, all_subsets):\n",
    "    if len(remaining_elements) == 0:\n",
    "        all_subsets.append(current_subset)\n",
    "    else:\n",
    "        subsets(current_subset + [remaining_elements[0]], remaining_elements[1:], all_subsets)\n",
    "        subsets(current_subset, remaining_elements[1:], all_subsets)\n",
    "    return all_subsets\n",
    "subsets([], [1,2,3,4], [])"
   ]
  },
  {
   "cell_type": "code",
   "execution_count": 281,
   "metadata": {},
   "outputs": [],
   "source": [
    "def fibonacci(n, prev_fib):\n",
    "    \"\"\"\n",
    "    Returns a list of the first n fibonacci numbers\n",
    "    \"\"\"\n",
    "    if n == 2: \n",
    "        return [1,1]\n",
    "    else:\n",
    "        print (\"current n: %d;\"%n)\n",
    "        if not len(prev_fib) > (n-1):\n",
    "            prev_fib = fibonacci(n-1, prev_fib)\n",
    "        prev_fib.append(prev_fib[-1] + prev_fib[-2])\n",
    "        print (\"current n: %d; current fib sequence : %r\" % (n, prev_fib))\n",
    "        return prev_fib\n",
    "fibonacci(5, [])"
   ]
  }
 ],
 "metadata": {
  "kernelspec": {
   "display_name": "Python 3",
   "language": "python",
   "name": "python3"
  },
  "language_info": {
   "codemirror_mode": {
    "name": "ipython",
    "version": 3
   },
   "file_extension": ".py",
   "mimetype": "text/x-python",
   "name": "python",
   "nbconvert_exporter": "python",
   "pygments_lexer": "ipython3",
   "version": "3.6.0"
  }
 },
 "nbformat": 4,
 "nbformat_minor": 2
}
